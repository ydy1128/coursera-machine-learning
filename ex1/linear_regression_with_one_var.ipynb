{
 "cells": [
  {
   "cell_type": "markdown",
   "metadata": {},
   "source": [
    "# 패키지 import 및 데이터 로딩\n",
    "Pandas를 사용해 데이터를 로드합니다.\n",
    "컬럼 이름은 population과 profit을 사용합니다."
   ]
  },
  {
   "cell_type": "code",
   "execution_count": 2,
   "metadata": {},
   "outputs": [
    {
     "data": {
      "text/html": [
       "<div>\n",
       "<style scoped>\n",
       "    .dataframe tbody tr th:only-of-type {\n",
       "        vertical-align: middle;\n",
       "    }\n",
       "\n",
       "    .dataframe tbody tr th {\n",
       "        vertical-align: top;\n",
       "    }\n",
       "\n",
       "    .dataframe thead th {\n",
       "        text-align: right;\n",
       "    }\n",
       "</style>\n",
       "<table border=\"1\" class=\"dataframe\">\n",
       "  <thead>\n",
       "    <tr style=\"text-align: right;\">\n",
       "      <th></th>\n",
       "      <th>population</th>\n",
       "      <th>profit</th>\n",
       "    </tr>\n",
       "  </thead>\n",
       "  <tbody>\n",
       "    <tr>\n",
       "      <th>0</th>\n",
       "      <td>6.1101</td>\n",
       "      <td>17.5920</td>\n",
       "    </tr>\n",
       "    <tr>\n",
       "      <th>1</th>\n",
       "      <td>5.5277</td>\n",
       "      <td>9.1302</td>\n",
       "    </tr>\n",
       "    <tr>\n",
       "      <th>2</th>\n",
       "      <td>8.5186</td>\n",
       "      <td>13.6620</td>\n",
       "    </tr>\n",
       "    <tr>\n",
       "      <th>3</th>\n",
       "      <td>7.0032</td>\n",
       "      <td>11.8540</td>\n",
       "    </tr>\n",
       "    <tr>\n",
       "      <th>4</th>\n",
       "      <td>5.8598</td>\n",
       "      <td>6.8233</td>\n",
       "    </tr>\n",
       "  </tbody>\n",
       "</table>\n",
       "</div>"
      ],
      "text/plain": [
       "   population   profit\n",
       "0      6.1101  17.5920\n",
       "1      5.5277   9.1302\n",
       "2      8.5186  13.6620\n",
       "3      7.0032  11.8540\n",
       "4      5.8598   6.8233"
      ]
     },
     "execution_count": 2,
     "metadata": {},
     "output_type": "execute_result"
    }
   ],
   "source": [
    "import numpy as np\n",
    "import pandas as pd\n",
    "\n",
    "dataset = pd.read_csv('ex1data1.txt', header=None, names=['population', 'profit'])\n",
    "dataset.head()"
   ]
  },
  {
   "cell_type": "markdown",
   "metadata": {},
   "source": [
    "# Scatter Plot Visualization\n",
    "matplotlib을 사용해 데이터를 시각화 합니다."
   ]
  },
  {
   "cell_type": "code",
   "execution_count": 10,
   "metadata": {},
   "outputs": [
    {
     "data": {
      "image/png": "[encoded data removed]",
      "text/plain": [
       "<Figure size 432x288 with 1 Axes>"
      ]
     },
     "metadata": {
      "needs_background": "light"
     },
     "output_type": "display_data"
    }
   ],
   "source": [
    "import matplotlib.pyplot as plt\n",
    "%matplotlib inline\n",
    "\n",
    "plt.scatter(dataset['population'], dataset['profit'], marker=\"x\", c=\"red\")\n",
    "plt.xlabel('Profit in $10,000s')\n",
    "plt.ylabel('Population of City in 10,000s')\n",
    "plt.show()"
   ]
  },
  {
   "cell_type": "markdown",
   "metadata": {},
   "source": [
    "# 경사하강법\n",
    "## 데이터준비\n",
    "- X는 dataset의 population컬럼\n",
    "- y는 dataset의 profit컬럼\n",
    "- m은 X의 shape\n",
    "- theta는 [0, 0] 값으로 준비"
   ]
  },
  {
   "cell_type": "code",
   "execution_count": 75,
   "metadata": {},
   "outputs": [
    {
     "name": "stdout",
     "output_type": "stream",
     "text": [
      "(97,) (97,)\n"
     ]
    }
   ],
   "source": [
    "# 데이터 준비\n",
    "X = dataset['population'].values\n",
    "y = dataset['profit'].values\n",
    "m = X.shape\n",
    "theta = np.zeros(2)\n",
    "print(X.shape, y.shape)"
   ]
  },
  {
   "cell_type": "markdown",
   "metadata": {},
   "source": [
    "## X0 데이터 추가\n",
    "X에 x0 = [1, 1 ...] 데이터를 추가한다"
   ]
  },
  {
   "cell_type": "code",
   "execution_count": 76,
   "metadata": {},
   "outputs": [
    {
     "name": "stdout",
     "output_type": "stream",
     "text": [
      "dstack 결과: \n",
      " [[1.     6.1101]\n",
      " [1.     5.5277]\n",
      " [1.     8.5186]\n",
      " [1.     7.0032]\n",
      " [1.     5.8598]]\n"
     ]
    },
    {
     "data": {
      "text/plain": [
       "(97, 2)"
      ]
     },
     "execution_count": 76,
     "metadata": {},
     "output_type": "execute_result"
    }
   ],
   "source": [
    "# X에 x_0 추가\n",
    "# x_0는 모든 값이 1로된 벡터\n",
    "X = np.dstack([np.ones(m), X])[0]\n",
    "\n",
    "# 행렬의 상위 5줄만 출력해 결과 확인\n",
    "print(\"dstack 결과: \\n\", X[:5, :])\n",
    "X.shape"
   ]
  },
  {
   "cell_type": "markdown",
   "metadata": {},
   "source": [
    "## 비용함수"
   ]
  },
  {
   "cell_type": "code",
   "execution_count": 77,
   "metadata": {},
   "outputs": [
    {
     "data": {
      "text/plain": [
       "32.072733877455676"
      ]
     },
     "execution_count": 77,
     "metadata": {},
     "output_type": "execute_result"
    }
   ],
   "source": [
    "def compute_cost(X, y, theta):\n",
    "    m = len(y)\n",
    "    J = 0\n",
    "    \n",
    "    # 행렬곱을 이용해 예측값 h를 계산\n",
    "    h = X.dot(theta)\n",
    "\n",
    "    # 에러 = h값과 y값의 차이\n",
    "    error = (h - y)\n",
    "    \n",
    "    # 1/2m * sigma((h - y)^2)\n",
    "    J = 1 / (2.0 * m) * np.sum(error ** 2)\n",
    "    \n",
    "    return J\n",
    "\n",
    "compute_cost(X, y, theta)"
   ]
  },
  {
   "cell_type": "markdown",
   "metadata": {},
   "source": [
    "## 경사하강법"
   ]
  },
  {
   "cell_type": "code",
   "execution_count": 102,
   "metadata": {},
   "outputs": [
    {
     "name": "stdout",
     "output_type": "stream",
     "text": [
      "minimum cost: 4.48\n",
      "optimal theta are: 0: -3.63029143940436, 1: 1.166362350335582\n"
     ]
    }
   ],
   "source": [
    "iterations = 1500\n",
    "alpha = 0.01\n",
    "def gradient_descent(X, y, theta, alpha, num_iters):\n",
    "    J_history = np.zeros(iterations)\n",
    "    \n",
    "    for i in range(num_iters):\n",
    "        m = len(y)\n",
    "        \n",
    "        h = X.dot(theta)\n",
    "        error = h - y\n",
    "        result = (1.0 / m) * error.T.dot(X)\n",
    "        theta = theta - alpha * result.T\n",
    "        cost = compute_cost(X, y, theta)\n",
    "        J_history[i] = cost\n",
    "    return theta, J_history\n",
    "theta_optimal, history = gradient_descent(X, y, theta, alpha, iterations)\n",
    "\n",
    "print(\"minimum cost: {:.2f}\".format(history[-1]))\n",
    "print(\"optimal theta are: 0: {}, 1: {}\".format(*theta_optimal))"
   ]
  }
 ],
 "metadata": {
  "kernelspec": {
   "display_name": "Python 3",
   "language": "python",
   "name": "python3"
  },
  "language_info": {
   "codemirror_mode": {
    "name": "ipython",
    "version": 3
   },
   "file_extension": ".py",
   "mimetype": "text/x-python",
   "name": "python",
   "nbconvert_exporter": "python",
   "pygments_lexer": "ipython3",
   "version": "3.7.1"
  }
 },
 "nbformat": 4,
 "nbformat_minor": 2
}
